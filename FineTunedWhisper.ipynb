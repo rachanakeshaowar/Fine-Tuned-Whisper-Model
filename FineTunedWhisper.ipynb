{
 "cells": [
  {
   "cell_type": "code",
   "execution_count": null,
   "id": "abf66b9a",
   "metadata": {
    "vscode": {
     "languageId": "plaintext"
    }
   },
   "outputs": [],
   "source": [
    "!add-apt-repository -y ppa:jonathonf/ffmpeg-4 -q\n",
    "!apt update -q\n",
    "!apt install -y ffmpeg -q"
   ]
  },
  {
   "cell_type": "code",
   "execution_count": null,
   "id": "39d16c20",
   "metadata": {
    "vscode": {
     "languageId": "plaintext"
    }
   },
   "outputs": [],
   "source": [
    "\n",
    "!pip install -q \"datasets>=2.6.1\"\n",
    "!pip install -q \"evaluate>=0.3.0\"\n",
    "!pip install -q git+https://github.com/huggingface/transformers.git@main\n",
    "!pip install -q librosa\n",
    "!pip install -q jiwer\n",
    "!pip install -q gradio\n",
    "!pip install -q bitsandbytes datasets accelerate loralib\n",
    "!pip install -q git+https://github.com/huggingface/transformers.git@main git+https://github.com/huggingface/evaluate.git@main\n",
    "\n"
   ]
  },
  {
   "cell_type": "code",
   "execution_count": null,
   "id": "b0aede4a",
   "metadata": {
    "vscode": {
     "languageId": "plaintext"
    }
   },
   "outputs": [],
   "source": [
    "from huggingface_hub import notebook_login\n",
    "notebook_login()"
   ]
  },
  {
   "cell_type": "code",
   "execution_count": null,
   "id": "91abd9cc",
   "metadata": {
    "vscode": {
     "languageId": "plaintext"
    }
   },
   "outputs": [],
   "source": [
    "import os\n",
    "os.environ[\"CUDA_VISIBLE_DEVICES\"] = \"0\"\n",
    "model_name_or_path = \"openai/whisper-small\"\n",
    "language =\"English\"\n",
    "language_abbr =\"en\"\n",
    "task = \"transcribe\"\n",
    "dataset_name = \"Trelis//llm-lingo\"\n",
    "org = \"Trelis\"\n",
    "trained_adapter_name = \"whisper-small-llm-lingo-adapters\"\n",
    "trained_model_name = \"whisper-small-llm-lingo\"\n",
    "trained_adapter_repo = org + \"/\" + trained_adapter_name\n",
    "trained_model_repo = org + '/' + trained_model_name\n"
   ]
  },
  {
   "cell_type": "code",
   "execution_count": null,
   "id": "efb48872",
   "metadata": {
    "vscode": {
     "languageId": "plaintext"
    }
   },
   "outputs": [],
   "source": [
    "from google.colab import files\n",
    "uploaded = files.upload()\n",
    "!pip install moviepy\n",
    "\n",
    "from moviepy.editor import *\n",
    "\n",
    "video = VideoFileClip(\"train1.mp4\")\n",
    "video.audio.write_audiofile(\"train1.mp3\")"
   ]
  },
  {
   "cell_type": "code",
   "execution_count": null,
   "id": "4683d749",
   "metadata": {
    "vscode": {
     "languageId": "plaintext"
    }
   },
   "outputs": [],
   "source": [
    "from google.colab import files\n",
    "uploaded = files.upload()\n",
    "!pip install moviepy\n",
    "\n",
    "from moviepy.editor import *\n",
    "\n",
    "video = VideoFileClip(\"validation_MyVoice.mp4\")\n",
    "video.audio.write_audiofile(\"validation_MyVoice.mp3\")"
   ]
  },
  {
   "cell_type": "code",
   "execution_count": null,
   "id": "cd55f1d1",
   "metadata": {
    "vscode": {
     "languageId": "plaintext"
    }
   },
   "outputs": [],
   "source": [
    "!pip install -q transformers datasets librosa torchaudio\n",
    "\n",
    "from transformers import pipeline\n",
    "from transformers import (\n",
    "    AutomaticSpeechRecognitionPipeline,\n",
    "    WhisperTimeStampLogitsProcessor,\n",
    "    WhisperForConditionalGeneration,\n",
    "    WhisperTokenizer,\n",
    "    WhisperProcessor,\n",
    ")\n",
    "import torch"
   ]
  },
  {
   "cell_type": "code",
   "execution_count": null,
   "id": "f598a21c",
   "metadata": {
    "vscode": {
     "languageId": "plaintext"
    }
   },
   "outputs": [],
   "source": []
  },
  {
   "cell_type": "code",
   "execution_count": null,
   "id": "5917add6",
   "metadata": {
    "vscode": {
     "languageId": "plaintext"
    }
   },
   "outputs": [],
   "source": []
  },
  {
   "cell_type": "code",
   "execution_count": null,
   "id": "e0390d13",
   "metadata": {
    "vscode": {
     "languageId": "plaintext"
    }
   },
   "outputs": [],
   "source": []
  },
  {
   "cell_type": "code",
   "execution_count": null,
   "id": "078ad342",
   "metadata": {
    "vscode": {
     "languageId": "plaintext"
    }
   },
   "outputs": [],
   "source": []
  },
  {
   "cell_type": "code",
   "execution_count": null,
   "id": "a884d415",
   "metadata": {
    "vscode": {
     "languageId": "plaintext"
    }
   },
   "outputs": [],
   "source": []
  }
 ],
 "metadata": {
  "language_info": {
   "name": "python"
  }
 },
 "nbformat": 4,
 "nbformat_minor": 5
}
